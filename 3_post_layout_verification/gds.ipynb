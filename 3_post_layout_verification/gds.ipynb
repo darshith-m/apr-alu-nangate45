{
 "cells": [
  {
   "cell_type": "code",
   "execution_count": 2,
   "metadata": {},
   "outputs": [
    {
     "name": "stdout",
     "output_type": "stream",
     "text": [
      "Collecting gdspy\n",
      "  Using cached gdspy-1.6.13-cp312-cp312-linux_x86_64.whl\n",
      "Collecting numpy\n",
      "  Using cached numpy-2.2.3-cp312-cp312-manylinux_2_17_x86_64.manylinux2014_x86_64.whl.metadata (62 kB)\n",
      "Collecting ipywidgets\n",
      "  Using cached ipywidgets-8.1.5-py3-none-any.whl.metadata (2.3 kB)\n",
      "Requirement already satisfied: comm>=0.1.3 in /home/darshith/miniconda3/lib/python3.12/site-packages (from ipywidgets) (0.2.2)\n",
      "Requirement already satisfied: ipython>=6.1.0 in /home/darshith/miniconda3/lib/python3.12/site-packages (from ipywidgets) (8.32.0)\n",
      "Requirement already satisfied: traitlets>=4.3.1 in /home/darshith/miniconda3/lib/python3.12/site-packages (from ipywidgets) (5.14.3)\n",
      "Collecting widgetsnbextension~=4.0.12 (from ipywidgets)\n",
      "  Using cached widgetsnbextension-4.0.13-py3-none-any.whl.metadata (1.6 kB)\n",
      "Collecting jupyterlab-widgets~=3.0.12 (from ipywidgets)\n",
      "  Using cached jupyterlab_widgets-3.0.13-py3-none-any.whl.metadata (4.1 kB)\n",
      "Requirement already satisfied: decorator in /home/darshith/miniconda3/lib/python3.12/site-packages (from ipython>=6.1.0->ipywidgets) (5.1.1)\n",
      "Requirement already satisfied: jedi>=0.16 in /home/darshith/miniconda3/lib/python3.12/site-packages (from ipython>=6.1.0->ipywidgets) (0.19.2)\n",
      "Requirement already satisfied: matplotlib-inline in /home/darshith/miniconda3/lib/python3.12/site-packages (from ipython>=6.1.0->ipywidgets) (0.1.7)\n",
      "Requirement already satisfied: pexpect>4.3 in /home/darshith/miniconda3/lib/python3.12/site-packages (from ipython>=6.1.0->ipywidgets) (4.9.0)\n",
      "Requirement already satisfied: prompt_toolkit<3.1.0,>=3.0.41 in /home/darshith/miniconda3/lib/python3.12/site-packages (from ipython>=6.1.0->ipywidgets) (3.0.50)\n",
      "Requirement already satisfied: pygments>=2.4.0 in /home/darshith/miniconda3/lib/python3.12/site-packages (from ipython>=6.1.0->ipywidgets) (2.15.1)\n",
      "Requirement already satisfied: stack_data in /home/darshith/miniconda3/lib/python3.12/site-packages (from ipython>=6.1.0->ipywidgets) (0.6.3)\n",
      "Requirement already satisfied: parso<0.9.0,>=0.8.4 in /home/darshith/miniconda3/lib/python3.12/site-packages (from jedi>=0.16->ipython>=6.1.0->ipywidgets) (0.8.4)\n",
      "Requirement already satisfied: ptyprocess>=0.5 in /home/darshith/miniconda3/lib/python3.12/site-packages (from pexpect>4.3->ipython>=6.1.0->ipywidgets) (0.7.0)\n",
      "Requirement already satisfied: wcwidth in /home/darshith/miniconda3/lib/python3.12/site-packages (from prompt_toolkit<3.1.0,>=3.0.41->ipython>=6.1.0->ipywidgets) (0.2.13)\n",
      "Requirement already satisfied: executing>=1.2.0 in /home/darshith/miniconda3/lib/python3.12/site-packages (from stack_data->ipython>=6.1.0->ipywidgets) (2.1.0)\n",
      "Requirement already satisfied: asttokens>=2.1.0 in /home/darshith/miniconda3/lib/python3.12/site-packages (from stack_data->ipython>=6.1.0->ipywidgets) (3.0.0)\n",
      "Requirement already satisfied: pure_eval in /home/darshith/miniconda3/lib/python3.12/site-packages (from stack_data->ipython>=6.1.0->ipywidgets) (0.2.3)\n",
      "Using cached numpy-2.2.3-cp312-cp312-manylinux_2_17_x86_64.manylinux2014_x86_64.whl (16.1 MB)\n",
      "Using cached ipywidgets-8.1.5-py3-none-any.whl (139 kB)\n",
      "Using cached jupyterlab_widgets-3.0.13-py3-none-any.whl (214 kB)\n",
      "Using cached widgetsnbextension-4.0.13-py3-none-any.whl (2.3 MB)\n",
      "Installing collected packages: widgetsnbextension, numpy, jupyterlab-widgets, gdspy, ipywidgets\n",
      "Successfully installed gdspy-1.6.13 ipywidgets-8.1.5 jupyterlab-widgets-3.0.13 numpy-2.2.3 widgetsnbextension-4.0.13\n"
     ]
    }
   ],
   "source": [
    "!pip install gdspy numpy ipywidgets"
   ]
  },
  {
   "cell_type": "code",
   "execution_count": 3,
   "metadata": {},
   "outputs": [],
   "source": [
    "import gdspy\n",
    "import ipywidgets as widgets\n",
    "from IPython.display import display\n",
    "import numpy as np\n",
    "\n",
    "class GDSViewer:\n",
    "    def __init__(self, gds_path):\n",
    "        # Load the GDS file\n",
    "        self.gds = gdspy.GdsLibrary()\n",
    "        self.gds.read_gds(gds_path)\n",
    "        \n",
    "        # Get all cells\n",
    "        self.cells = list(self.gds.cells.keys())\n",
    "        \n",
    "        # Create widgets\n",
    "        self.cell_dropdown = widgets.Dropdown(\n",
    "            options=self.cells,\n",
    "            description='Cell:',\n",
    "            style={'description_width': 'initial'}\n",
    "        )\n",
    "        \n",
    "        self.zoom_slider = widgets.FloatSlider(\n",
    "            value=1.0,\n",
    "            min=0.1,\n",
    "            max=10.0,\n",
    "            step=0.1,\n",
    "            description='Zoom:',\n",
    "            continuous_update=False\n",
    "        )\n",
    "        \n",
    "        # Create the figure\n",
    "        self.fig = self.create_figure()\n",
    "        \n",
    "        # Add callbacks\n",
    "        self.cell_dropdown.observe(self.on_cell_change, names='value')\n",
    "        self.zoom_slider.observe(self.on_zoom_change, names='value')\n",
    "        \n",
    "        # Display widgets\n",
    "        display(widgets.VBox([self.cell_dropdown, self.zoom_slider]))\n",
    "        display(self.fig)\n",
    "    \n",
    "    def create_figure(self):\n",
    "        cell = self.gds.cells[self.cell_dropdown.value]\n",
    "        bounds = cell.get_bounding_box()\n",
    "        if bounds is not None:\n",
    "            center = (bounds[0] + bounds[1]) / 2\n",
    "            width = bounds[1][0] - bounds[0][0]\n",
    "            height = bounds[1][1] - bounds[0][1]\n",
    "            \n",
    "            # Create the figure with the current cell\n",
    "            return cell.plot(show=False)\n",
    "    \n",
    "    def on_cell_change(self, change):\n",
    "        if change['type'] == 'change' and change['name'] == 'value':\n",
    "            self.fig = self.create_figure()\n",
    "            display(self.fig)\n",
    "    \n",
    "    def on_zoom_change(self, change):\n",
    "        if change['type'] == 'change' and change['name'] == 'value':\n",
    "            self.fig = self.create_figure()\n",
    "            display(self.fig)\n",
    "\n",
    "# Usage example:\n",
    "# viewer = GDSViewer('your_file.gds')"
   ]
  },
  {
   "cell_type": "code",
   "execution_count": 4,
   "metadata": {},
   "outputs": [
    {
     "ename": "AttributeError",
     "evalue": "'Cell' object has no attribute 'plot'",
     "output_type": "error",
     "traceback": [
      "\u001b[0;31m---------------------------------------------------------------------------\u001b[0m",
      "\u001b[0;31mAttributeError\u001b[0m                            Traceback (most recent call last)",
      "Cell \u001b[0;32mIn[4], line 2\u001b[0m\n\u001b[1;32m      1\u001b[0m \u001b[38;5;66;03m# Load and display your GDS file\u001b[39;00m\n\u001b[0;32m----> 2\u001b[0m viewer \u001b[38;5;241m=\u001b[39m \u001b[43mGDSViewer\u001b[49m\u001b[43m(\u001b[49m\u001b[38;5;124;43m'\u001b[39;49m\u001b[38;5;124;43malu.gds\u001b[39;49m\u001b[38;5;124;43m'\u001b[39;49m\u001b[43m)\u001b[49m\n",
      "Cell \u001b[0;32mIn[3], line 32\u001b[0m, in \u001b[0;36mGDSViewer.__init__\u001b[0;34m(self, gds_path)\u001b[0m\n\u001b[1;32m     22\u001b[0m \u001b[38;5;28mself\u001b[39m\u001b[38;5;241m.\u001b[39mzoom_slider \u001b[38;5;241m=\u001b[39m widgets\u001b[38;5;241m.\u001b[39mFloatSlider(\n\u001b[1;32m     23\u001b[0m     value\u001b[38;5;241m=\u001b[39m\u001b[38;5;241m1.0\u001b[39m,\n\u001b[1;32m     24\u001b[0m     \u001b[38;5;28mmin\u001b[39m\u001b[38;5;241m=\u001b[39m\u001b[38;5;241m0.1\u001b[39m,\n\u001b[0;32m   (...)\u001b[0m\n\u001b[1;32m     28\u001b[0m     continuous_update\u001b[38;5;241m=\u001b[39m\u001b[38;5;28;01mFalse\u001b[39;00m\n\u001b[1;32m     29\u001b[0m )\n\u001b[1;32m     31\u001b[0m \u001b[38;5;66;03m# Create the figure\u001b[39;00m\n\u001b[0;32m---> 32\u001b[0m \u001b[38;5;28mself\u001b[39m\u001b[38;5;241m.\u001b[39mfig \u001b[38;5;241m=\u001b[39m \u001b[38;5;28;43mself\u001b[39;49m\u001b[38;5;241;43m.\u001b[39;49m\u001b[43mcreate_figure\u001b[49m\u001b[43m(\u001b[49m\u001b[43m)\u001b[49m\n\u001b[1;32m     34\u001b[0m \u001b[38;5;66;03m# Add callbacks\u001b[39;00m\n\u001b[1;32m     35\u001b[0m \u001b[38;5;28mself\u001b[39m\u001b[38;5;241m.\u001b[39mcell_dropdown\u001b[38;5;241m.\u001b[39mobserve(\u001b[38;5;28mself\u001b[39m\u001b[38;5;241m.\u001b[39mon_cell_change, names\u001b[38;5;241m=\u001b[39m\u001b[38;5;124m'\u001b[39m\u001b[38;5;124mvalue\u001b[39m\u001b[38;5;124m'\u001b[39m)\n",
      "Cell \u001b[0;32mIn[3], line 51\u001b[0m, in \u001b[0;36mGDSViewer.create_figure\u001b[0;34m(self)\u001b[0m\n\u001b[1;32m     48\u001b[0m height \u001b[38;5;241m=\u001b[39m bounds[\u001b[38;5;241m1\u001b[39m][\u001b[38;5;241m1\u001b[39m] \u001b[38;5;241m-\u001b[39m bounds[\u001b[38;5;241m0\u001b[39m][\u001b[38;5;241m1\u001b[39m]\n\u001b[1;32m     50\u001b[0m \u001b[38;5;66;03m# Create the figure with the current cell\u001b[39;00m\n\u001b[0;32m---> 51\u001b[0m \u001b[38;5;28;01mreturn\u001b[39;00m \u001b[43mcell\u001b[49m\u001b[38;5;241;43m.\u001b[39;49m\u001b[43mplot\u001b[49m(show\u001b[38;5;241m=\u001b[39m\u001b[38;5;28;01mFalse\u001b[39;00m)\n",
      "\u001b[0;31mAttributeError\u001b[0m: 'Cell' object has no attribute 'plot'"
     ]
    }
   ],
   "source": [
    "# Load and display your GDS file\n",
    "viewer = GDSViewer('alu.gds')"
   ]
  }
 ],
 "metadata": {
  "kernelspec": {
   "display_name": "base",
   "language": "python",
   "name": "python3"
  },
  "language_info": {
   "codemirror_mode": {
    "name": "ipython",
    "version": 3
   },
   "file_extension": ".py",
   "mimetype": "text/x-python",
   "name": "python",
   "nbconvert_exporter": "python",
   "pygments_lexer": "ipython3",
   "version": "3.12.9"
  }
 },
 "nbformat": 4,
 "nbformat_minor": 2
}
